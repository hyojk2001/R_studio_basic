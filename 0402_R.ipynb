{
  "nbformat": 4,
  "nbformat_minor": 5,
  "metadata": {
    "kernelspec": {
      "display_name": "R",
      "language": "R",
      "name": "ir"
    },
    "language_info": {
      "codemirror_mode": "r",
      "file_extension": ".r",
      "mimetype": "text/x-r-source",
      "name": "R",
      "pygments_lexer": "r",
      "version": "3.6.1"
    },
    "colab": {
      "name": "0402_R.ipynb",
      "provenance": [],
      "collapsed_sections": []
    }
  },
  "cells": [
    {
      "cell_type": "code",
      "metadata": {
        "id": "annual-parallel"
      },
      "source": [
        "# 치킨집이 가장 많은 지역 찾기\n",
        "# 그림의 크기로 많은 지역을 표현"
      ],
      "id": "annual-parallel",
      "execution_count": null,
      "outputs": []
    },
    {
      "cell_type": "code",
      "metadata": {
        "colab": {
          "base_uri": "https://localhost:8080/"
        },
        "id": "s8tbKiQHhG3-",
        "outputId": "93a69aca-c3d1-4c1d-edc2-04092740b969"
      },
      "source": [
        "#한글이 깨지는 현상을 방지하기 위해서 showtext 라는 패키지를 이용하여 한글 글꼴을 추가한다.\n",
        "install.packages('showtext', repos='http://cran.rstudio.com/')\n",
        "\n",
        "#패키지를 올리고(?)\n",
        "library(showtext)\n",
        "\n",
        "#바로 이렇게 구글폰트를 다운 받습니다.\n",
        "# 다운 받을 폰트 이름 : Noto Sans KR, 내가 사용할 이름 : notosanskr\n",
        "font_add_google('Noto Sans KR', 'notosanskr')\n",
        "\n",
        "#showtext 글꼴을 자동으로 사용하겠다.\n",
        "showtext_auto()\n",
        "font_add_google('Noto Sans KR', 'notosanskr')\n"
      ],
      "id": "s8tbKiQHhG3-",
      "execution_count": null,
      "outputs": [
        {
          "output_type": "stream",
          "text": [
            "Installing package into ‘/usr/local/lib/R/site-library’\n",
            "(as ‘lib’ is unspecified)\n",
            "\n",
            "also installing the dependencies ‘sysfonts’, ‘showtextdb’\n",
            "\n",
            "\n",
            "Loading required package: sysfonts\n",
            "\n",
            "Loading required package: showtextdb\n",
            "\n"
          ],
          "name": "stderr"
        }
      ]
    },
    {
      "cell_type": "code",
      "metadata": {
        "id": "multiple-annual"
      },
      "source": [
        "# 치킨집 데이터 구하기\n",
        "# www.localdata.kr"
      ],
      "id": "multiple-annual",
      "execution_count": null,
      "outputs": []
    },
    {
      "cell_type": "code",
      "metadata": {
        "id": "compatible-deviation"
      },
      "source": [
        "# 데이터 읽어오기\n",
        "library(readxl)\n"
      ],
      "id": "compatible-deviation",
      "execution_count": null,
      "outputs": []
    },
    {
      "cell_type": "code",
      "metadata": {
        "colab": {
          "base_uri": "https://localhost:8080/",
          "height": 1000
        },
        "id": "legitimate-northeast",
        "outputId": "8df3b63d-4ddb-43a2-8dc7-f970ec9a3bc3"
      },
      "source": [
        "# 파일을 읽어서 ck변수에 저장\n",
        "ck <- read_excel('치킨집_가공.xlsx')\n",
        "ck"
      ],
      "id": "legitimate-northeast",
      "execution_count": null,
      "outputs": [
        {
          "output_type": "display_data",
          "data": {
            "text/plain": [
              "     소재지전체주소                                                              \n",
              "1    서울특별시 서대문구 창천동 52-20번지 2층                                    \n",
              "2    서울특별시 서대문구 창천동 53-83번지 (지상1층)                              \n",
              "3    서울특별시 서대문구 창천동 53-3번지 2층                                     \n",
              "4    서울특별시 서대문구 남가좌동 377번지 삼성아파트 상가동 101호                \n",
              "5    서울특별시 서대문구 연희동 134-28번지 지하1층                               \n",
              "6    서울특별시 서대문구 창천동 62-53번지 1층 일부                               \n",
              "7    서울특별시 서대문구 대현동 90-13번지                                        \n",
              "8    서울특별시 서대문구 창천동 52-139번지 지하1층                               \n",
              "9    서울특별시 서대문구 홍은동 409-48번지 지하1층                               \n",
              "10   서울특별시 서대문구 북가좌동 292-11번지                                     \n",
              "11   서울특별시 서대문구 북가좌동 383-9번지 북가좌새마을금고                     \n",
              "12   서울특별시 서대문구 북가좌동 278-1번지 1층                                  \n",
              "13   서울특별시 서대문구 북가좌동 345-26번지 1층 101호                           \n",
              "14   서울특별시 서대문구 북가좌동 372-14번지 1층                                 \n",
              "15   서울특별시 서대문구 창천동 52-48번지                                        \n",
              "16   서울특별시 서대문구 북가좌동 291-2번지                                      \n",
              "17   서울특별시 서대문구 남가좌동 324-45번지                                     \n",
              "18   서울특별시 서대문구 창천동 52-51번지 (지상2층)                              \n",
              "19   서울특별시 서대문구 북가좌동 344-31번지 밀양빌딩 1층 일부                   \n",
              "20   서울특별시 서대문구 창천동 53-91번지                                        \n",
              "21   서울특별시 서대문구 홍제동 266-20번지 외1필지 지상1층                       \n",
              "22   서울특별시 서대문구 창천동 2-21번지 2층                                     \n",
              "23   서울특별시 서대문구 냉천동 159-2번지 2층                                    \n",
              "24   서울특별시 서대문구 연희동 69-22번지                                        \n",
              "25   서울특별시 서대문구 창천동 57-53번지                                        \n",
              "26   서울특별시 서대문구 신촌동 134번지 연세대학교 SK국제학사(2학사) 지하2층 일부\n",
              "27   서울특별시 서대문구 창천동 52-83번지                                        \n",
              "28   서울특별시 서대문구 대현동 37-32번지 신촌영타운 지웰 115호                  \n",
              "29   서울특별시 서대문구 창천동 52-76번지 (지하1층)                              \n",
              "30   서울특별시 서대문구 충정로2가 5-15번지                                      \n",
              "⋮    ⋮                                                                           \n",
              "1486 서울특별시 서대문구 북아현동 1-521번지 (지하1층)                            \n",
              "1487 서울특별시 서대문구 북아현동 220-36번지                                     \n",
              "1488 서울특별시 서대문구 홍은동 48-165번지 (지상1층)                             \n",
              "1489 서울특별시 서대문구 창천동 57-42번지                                        \n",
              "1490 서울특별시 서대문구 북가좌동 290-13번지                                     \n",
              "1491 서울특별시 서대문구 대현동 90-53번지                                        \n",
              "1492 서울특별시 서대문구 북아현동 220-36번지                                     \n",
              "1493 서울특별시 서대문구 남가좌동 157-1번지                                      \n",
              "1494 서울특별시 서대문구 남가좌동 295-5번지                                      \n",
              "1495 서울특별시 서대문구 북가좌동 291-2번지                                      \n",
              "1496 서울특별시 서대문구 홍제동 174-46번지                                       \n",
              "1497 서울특별시 서대문구 창천동 20-99번지                                        \n",
              "1498 서울특별시 서대문구 북아현동 220-36번지                                     \n",
              "1499 서울특별시 서대문구 북아현동 217-4번지 (지상1층)                            \n",
              "1500 서울특별시 서대문구 홍제동 173-2번지 ,4 (지상2층)                           \n",
              "1501 서울특별시 서대문구 대현동 137-2번지                                        \n",
              "1502 서울특별시 서대문구 창천동 53-94번지                                        \n",
              "1503 서울특별시 서대문구 남가좌동 351-14번지                                     \n",
              "1504 서울특별시 서대문구 연희동 133-6번지                                        \n",
              "1505 서울특별시 서대문구 창천동 5-94번지 (지상1층)                               \n",
              "1506 서울특별시 서대문구 창천동 29-55번지                                        \n",
              "1507 서울특별시 서대문구 홍은동 450-6번지                                        \n",
              "1508 서울특별시 서대문구 홍은동 450-6번지                                        \n",
              "1509 서울특별시 서대문구 충정로3가 190-36번지                                    \n",
              "1510 서울특별시 서대문구 창천동 52-150번지                                       \n",
              "1511 서울특별시 서대문구 남가좌동 290-9번지                                      \n",
              "1512 서울특별시 서대문구 남가좌동 290-9번지                                      \n",
              "1513 서울특별시 서대문구 남가좌동 215-45번지 (지상1층)                           \n",
              "1514 서울특별시 서대문구 홍은동 401-12번지                                       \n",
              "1515 서울특별시 서대문구 남가좌동 157-1번지                                      \n",
              "     사업장명                      \n",
              "1    쪼리375                       \n",
              "2    고향                          \n",
              "3    찬수씨, 싼술을부탁해          \n",
              "4    케리홈치킨                    \n",
              "5    연희38애비뉴                  \n",
              "6    닭꼬치야                      \n",
              "7    치즈밥있슈(issue)             \n",
              "8    다모토리6                     \n",
              "9    뮤즈                          \n",
              "10   최가네남원추어탕              \n",
              "11   딱좋아                        \n",
              "12   팔구팔구 옛날통닭             \n",
              "13   앤펍(Ann Pub)                 \n",
              "14   현이네치킨                    \n",
              "15   콩각시                        \n",
              "16   굽네치킨                      \n",
              "17   빠빠빠치킨                    \n",
              "18   맥주바다                      \n",
              "19   빨강떡볶이 북가좌직영점       \n",
              "20   거품이야기                    \n",
              "21   퓨전주점 사발                 \n",
              "22   오프더레코드                  \n",
              "23   BU BU(부부)                   \n",
              "24   시루향기(연희점)              \n",
              "25   중국홍 샤브 샤브              \n",
              "26   마피아 피자앤치킨             \n",
              "27   예인푸드시스템(신촌양푼이국수)\n",
              "28   비비큐 이대점                 \n",
              "29   바나나                        \n",
              "30   오븐에 빠진 닭                \n",
              "⋮    ⋮                             \n",
              "1486 올리브                        \n",
              "1487 원                            \n",
              "1488 버닝호프                      \n",
              "1489 뜨레모아                      \n",
              "1490 만냥막걸리                    \n",
              "1491 민주떡볶이                    \n",
              "1492 애마                          \n",
              "1493 안동장                        \n",
              "1494 제일식당                      \n",
              "1495 에이스꼬치구이전문점          \n",
              "1496 선비촌                        \n",
              "1497 달콤한코끼리                  \n",
              "1498 뭉크                          \n",
              "1499 마이통닭                      \n",
              "1500 엠티호프                      \n",
              "1501 심프손                        \n",
              "1502 달과6팬스                     \n",
              "1503 만남호프                      \n",
              "1504 꾸띠몽                        \n",
              "1505 세이                          \n",
              "1506 난                            \n",
              "1507 오비광장                      \n",
              "1508 미승호프                      \n",
              "1509 봉명성                        \n",
              "1510 챔스(Champs)                  \n",
              "1511 들장미                        \n",
              "1512 광주집                        \n",
              "1513 쇼킹                          \n",
              "1514 민들레분식                    \n",
              "1515 청해수산                      "
            ],
            "text/latex": "A tibble: 1515 × 2\n\\begin{tabular}{ll}\n 소재지전체주소 & 사업장명\\\\\n <chr> & <chr>\\\\\n\\hline\n\t 서울특별시 서대문구 창천동 52-20번지 2층                                     & 쪼리375                       \\\\\n\t 서울특별시 서대문구 창천동 53-83번지 (지상1층)                               & 고향                          \\\\\n\t 서울특별시 서대문구 창천동 53-3번지 2층                                      & 찬수씨, 싼술을부탁해          \\\\\n\t 서울특별시 서대문구 남가좌동 377번지 삼성아파트 상가동 101호                 & 케리홈치킨                    \\\\\n\t 서울특별시 서대문구 연희동 134-28번지 지하1층                                & 연희38애비뉴                  \\\\\n\t 서울특별시 서대문구 창천동 62-53번지 1층 일부                                & 닭꼬치야                      \\\\\n\t 서울특별시 서대문구 대현동 90-13번지                                         & 치즈밥있슈(issue)             \\\\\n\t 서울특별시 서대문구 창천동 52-139번지 지하1층                                & 다모토리6                     \\\\\n\t 서울특별시 서대문구 홍은동 409-48번지 지하1층                                & 뮤즈                          \\\\\n\t 서울특별시 서대문구 북가좌동 292-11번지                                      & 최가네남원추어탕              \\\\\n\t 서울특별시 서대문구 북가좌동 383-9번지 북가좌새마을금고                      & 딱좋아                        \\\\\n\t 서울특별시 서대문구 북가좌동 278-1번지 1층                                   & 팔구팔구 옛날통닭             \\\\\n\t 서울특별시 서대문구 북가좌동 345-26번지 1층 101호                            & 앤펍(Ann Pub)                 \\\\\n\t 서울특별시 서대문구 북가좌동 372-14번지 1층                                  & 현이네치킨                    \\\\\n\t 서울특별시 서대문구 창천동 52-48번지                                         & 콩각시                        \\\\\n\t 서울특별시 서대문구 북가좌동 291-2번지                                       & 굽네치킨                      \\\\\n\t 서울특별시 서대문구 남가좌동 324-45번지                                      & 빠빠빠치킨                    \\\\\n\t 서울특별시 서대문구 창천동 52-51번지 (지상2층)                               & 맥주바다                      \\\\\n\t 서울특별시 서대문구 북가좌동 344-31번지 밀양빌딩 1층 일부                    & 빨강떡볶이 북가좌직영점       \\\\\n\t 서울특별시 서대문구 창천동 53-91번지                                         & 거품이야기                    \\\\\n\t 서울특별시 서대문구 홍제동 266-20번지 외1필지 지상1층                        & 퓨전주점 사발                 \\\\\n\t 서울특별시 서대문구 창천동 2-21번지 2층                                      & 오프더레코드                  \\\\\n\t 서울특별시 서대문구 냉천동 159-2번지 2층                                     & BU BU(부부)                   \\\\\n\t 서울특별시 서대문구 연희동 69-22번지                                         & 시루향기(연희점)              \\\\\n\t 서울특별시 서대문구 창천동 57-53번지                                         & 중국홍 샤브 샤브              \\\\\n\t 서울특별시 서대문구 신촌동 134번지 연세대학교 SK국제학사(2학사) 지하2층 일부 & 마피아 피자앤치킨             \\\\\n\t 서울특별시 서대문구 창천동 52-83번지                                         & 예인푸드시스템(신촌양푼이국수)\\\\\n\t 서울특별시 서대문구 대현동 37-32번지 신촌영타운 지웰 115호                   & 비비큐 이대점                 \\\\\n\t 서울특별시 서대문구 창천동 52-76번지 (지하1층)                               & 바나나                        \\\\\n\t 서울특별시 서대문구 충정로2가 5-15번지                                       & 오븐에 빠진 닭                \\\\\n\t ⋮ & ⋮\\\\\n\t 서울특별시 서대문구 북아현동 1-521번지 (지하1층)  & 올리브              \\\\\n\t 서울특별시 서대문구 북아현동 220-36번지           & 원                  \\\\\n\t 서울특별시 서대문구 홍은동 48-165번지 (지상1층)   & 버닝호프            \\\\\n\t 서울특별시 서대문구 창천동 57-42번지              & 뜨레모아            \\\\\n\t 서울특별시 서대문구 북가좌동 290-13번지           & 만냥막걸리          \\\\\n\t 서울특별시 서대문구 대현동 90-53번지              & 민주떡볶이          \\\\\n\t 서울특별시 서대문구 북아현동 220-36번지           & 애마                \\\\\n\t 서울특별시 서대문구 남가좌동 157-1번지            & 안동장              \\\\\n\t 서울특별시 서대문구 남가좌동 295-5번지            & 제일식당            \\\\\n\t 서울특별시 서대문구 북가좌동 291-2번지            & 에이스꼬치구이전문점\\\\\n\t 서울특별시 서대문구 홍제동 174-46번지             & 선비촌              \\\\\n\t 서울특별시 서대문구 창천동 20-99번지              & 달콤한코끼리        \\\\\n\t 서울특별시 서대문구 북아현동 220-36번지           & 뭉크                \\\\\n\t 서울특별시 서대문구 북아현동 217-4번지 (지상1층)  & 마이통닭            \\\\\n\t 서울특별시 서대문구 홍제동 173-2번지 ,4 (지상2층) & 엠티호프            \\\\\n\t 서울특별시 서대문구 대현동 137-2번지              & 심프손              \\\\\n\t 서울특별시 서대문구 창천동 53-94번지              & 달과6팬스           \\\\\n\t 서울특별시 서대문구 남가좌동 351-14번지           & 만남호프            \\\\\n\t 서울특별시 서대문구 연희동 133-6번지              & 꾸띠몽              \\\\\n\t 서울특별시 서대문구 창천동 5-94번지 (지상1층)     & 세이                \\\\\n\t 서울특별시 서대문구 창천동 29-55번지              & 난                  \\\\\n\t 서울특별시 서대문구 홍은동 450-6번지              & 오비광장            \\\\\n\t 서울특별시 서대문구 홍은동 450-6번지              & 미승호프            \\\\\n\t 서울특별시 서대문구 충정로3가 190-36번지          & 봉명성              \\\\\n\t 서울특별시 서대문구 창천동 52-150번지             & 챔스(Champs)        \\\\\n\t 서울특별시 서대문구 남가좌동 290-9번지            & 들장미              \\\\\n\t 서울특별시 서대문구 남가좌동 290-9번지            & 광주집              \\\\\n\t 서울특별시 서대문구 남가좌동 215-45번지 (지상1층) & 쇼킹                \\\\\n\t 서울특별시 서대문구 홍은동 401-12번지             & 민들레분식          \\\\\n\t 서울특별시 서대문구 남가좌동 157-1번지            & 청해수산            \\\\\n\\end{tabular}\n",
            "text/markdown": "\nA tibble: 1515 × 2\n\n| 소재지전체주소 &lt;chr&gt; | 사업장명 &lt;chr&gt; |\n|---|---|\n| 서울특별시 서대문구 창천동 52-20번지 2층                                     | 쪼리375                        |\n| 서울특별시 서대문구 창천동 53-83번지 (지상1층)                               | 고향                           |\n| 서울특별시 서대문구 창천동 53-3번지 2층                                      | 찬수씨, 싼술을부탁해           |\n| 서울특별시 서대문구 남가좌동 377번지 삼성아파트 상가동 101호                 | 케리홈치킨                     |\n| 서울특별시 서대문구 연희동 134-28번지 지하1층                                | 연희38애비뉴                   |\n| 서울특별시 서대문구 창천동 62-53번지 1층 일부                                | 닭꼬치야                       |\n| 서울특별시 서대문구 대현동 90-13번지                                         | 치즈밥있슈(issue)              |\n| 서울특별시 서대문구 창천동 52-139번지 지하1층                                | 다모토리6                      |\n| 서울특별시 서대문구 홍은동 409-48번지 지하1층                                | 뮤즈                           |\n| 서울특별시 서대문구 북가좌동 292-11번지                                      | 최가네남원추어탕               |\n| 서울특별시 서대문구 북가좌동 383-9번지 북가좌새마을금고                      | 딱좋아                         |\n| 서울특별시 서대문구 북가좌동 278-1번지 1층                                   | 팔구팔구 옛날통닭              |\n| 서울특별시 서대문구 북가좌동 345-26번지 1층 101호                            | 앤펍(Ann Pub)                  |\n| 서울특별시 서대문구 북가좌동 372-14번지 1층                                  | 현이네치킨                     |\n| 서울특별시 서대문구 창천동 52-48번지                                         | 콩각시                         |\n| 서울특별시 서대문구 북가좌동 291-2번지                                       | 굽네치킨                       |\n| 서울특별시 서대문구 남가좌동 324-45번지                                      | 빠빠빠치킨                     |\n| 서울특별시 서대문구 창천동 52-51번지 (지상2층)                               | 맥주바다                       |\n| 서울특별시 서대문구 북가좌동 344-31번지 밀양빌딩 1층 일부                    | 빨강떡볶이 북가좌직영점        |\n| 서울특별시 서대문구 창천동 53-91번지                                         | 거품이야기                     |\n| 서울특별시 서대문구 홍제동 266-20번지 외1필지 지상1층                        | 퓨전주점 사발                  |\n| 서울특별시 서대문구 창천동 2-21번지 2층                                      | 오프더레코드                   |\n| 서울특별시 서대문구 냉천동 159-2번지 2층                                     | BU BU(부부)                    |\n| 서울특별시 서대문구 연희동 69-22번지                                         | 시루향기(연희점)               |\n| 서울특별시 서대문구 창천동 57-53번지                                         | 중국홍 샤브 샤브               |\n| 서울특별시 서대문구 신촌동 134번지 연세대학교 SK국제학사(2학사) 지하2층 일부 | 마피아 피자앤치킨              |\n| 서울특별시 서대문구 창천동 52-83번지                                         | 예인푸드시스템(신촌양푼이국수) |\n| 서울특별시 서대문구 대현동 37-32번지 신촌영타운 지웰 115호                   | 비비큐 이대점                  |\n| 서울특별시 서대문구 창천동 52-76번지 (지하1층)                               | 바나나                         |\n| 서울특별시 서대문구 충정로2가 5-15번지                                       | 오븐에 빠진 닭                 |\n| ⋮ | ⋮ |\n| 서울특별시 서대문구 북아현동 1-521번지 (지하1층)  | 올리브               |\n| 서울특별시 서대문구 북아현동 220-36번지           | 원                   |\n| 서울특별시 서대문구 홍은동 48-165번지 (지상1층)   | 버닝호프             |\n| 서울특별시 서대문구 창천동 57-42번지              | 뜨레모아             |\n| 서울특별시 서대문구 북가좌동 290-13번지           | 만냥막걸리           |\n| 서울특별시 서대문구 대현동 90-53번지              | 민주떡볶이           |\n| 서울특별시 서대문구 북아현동 220-36번지           | 애마                 |\n| 서울특별시 서대문구 남가좌동 157-1번지            | 안동장               |\n| 서울특별시 서대문구 남가좌동 295-5번지            | 제일식당             |\n| 서울특별시 서대문구 북가좌동 291-2번지            | 에이스꼬치구이전문점 |\n| 서울특별시 서대문구 홍제동 174-46번지             | 선비촌               |\n| 서울특별시 서대문구 창천동 20-99번지              | 달콤한코끼리         |\n| 서울특별시 서대문구 북아현동 220-36번지           | 뭉크                 |\n| 서울특별시 서대문구 북아현동 217-4번지 (지상1층)  | 마이통닭             |\n| 서울특별시 서대문구 홍제동 173-2번지 ,4 (지상2층) | 엠티호프             |\n| 서울특별시 서대문구 대현동 137-2번지              | 심프손               |\n| 서울특별시 서대문구 창천동 53-94번지              | 달과6팬스            |\n| 서울특별시 서대문구 남가좌동 351-14번지           | 만남호프             |\n| 서울특별시 서대문구 연희동 133-6번지              | 꾸띠몽               |\n| 서울특별시 서대문구 창천동 5-94번지 (지상1층)     | 세이                 |\n| 서울특별시 서대문구 창천동 29-55번지              | 난                   |\n| 서울특별시 서대문구 홍은동 450-6번지              | 오비광장             |\n| 서울특별시 서대문구 홍은동 450-6번지              | 미승호프             |\n| 서울특별시 서대문구 충정로3가 190-36번지          | 봉명성               |\n| 서울특별시 서대문구 창천동 52-150번지             | 챔스(Champs)         |\n| 서울특별시 서대문구 남가좌동 290-9번지            | 들장미               |\n| 서울특별시 서대문구 남가좌동 290-9번지            | 광주집               |\n| 서울특별시 서대문구 남가좌동 215-45번지 (지상1층) | 쇼킹                 |\n| 서울특별시 서대문구 홍은동 401-12번지             | 민들레분식           |\n| 서울특별시 서대문구 남가좌동 157-1번지            | 청해수산             |\n\n",
            "text/html": [
              "<table class=\"dataframe\">\n",
              "<caption>A tibble: 1515 × 2</caption>\n",
              "<thead>\n",
              "\t<tr><th scope=col>소재지전체주소</th><th scope=col>사업장명</th></tr>\n",
              "\t<tr><th scope=col>&lt;chr&gt;</th><th scope=col>&lt;chr&gt;</th></tr>\n",
              "</thead>\n",
              "<tbody>\n",
              "\t<tr><td>서울특별시 서대문구 창천동 52-20번지 2층                                    </td><td>쪼리375                       </td></tr>\n",
              "\t<tr><td>서울특별시 서대문구 창천동 53-83번지 (지상1층)                              </td><td>고향                          </td></tr>\n",
              "\t<tr><td>서울특별시 서대문구 창천동 53-3번지 2층                                     </td><td>찬수씨, 싼술을부탁해          </td></tr>\n",
              "\t<tr><td>서울특별시 서대문구 남가좌동 377번지 삼성아파트 상가동 101호                </td><td>케리홈치킨                    </td></tr>\n",
              "\t<tr><td>서울특별시 서대문구 연희동 134-28번지 지하1층                               </td><td>연희38애비뉴                  </td></tr>\n",
              "\t<tr><td>서울특별시 서대문구 창천동 62-53번지 1층 일부                               </td><td>닭꼬치야                      </td></tr>\n",
              "\t<tr><td>서울특별시 서대문구 대현동 90-13번지                                        </td><td>치즈밥있슈(issue)             </td></tr>\n",
              "\t<tr><td>서울특별시 서대문구 창천동 52-139번지 지하1층                               </td><td>다모토리6                     </td></tr>\n",
              "\t<tr><td>서울특별시 서대문구 홍은동 409-48번지 지하1층                               </td><td>뮤즈                          </td></tr>\n",
              "\t<tr><td>서울특별시 서대문구 북가좌동 292-11번지                                     </td><td>최가네남원추어탕              </td></tr>\n",
              "\t<tr><td>서울특별시 서대문구 북가좌동 383-9번지 북가좌새마을금고                     </td><td>딱좋아                        </td></tr>\n",
              "\t<tr><td>서울특별시 서대문구 북가좌동 278-1번지 1층                                  </td><td>팔구팔구 옛날통닭             </td></tr>\n",
              "\t<tr><td>서울특별시 서대문구 북가좌동 345-26번지 1층 101호                           </td><td>앤펍(Ann Pub)                 </td></tr>\n",
              "\t<tr><td>서울특별시 서대문구 북가좌동 372-14번지 1층                                 </td><td>현이네치킨                    </td></tr>\n",
              "\t<tr><td>서울특별시 서대문구 창천동 52-48번지                                        </td><td>콩각시                        </td></tr>\n",
              "\t<tr><td>서울특별시 서대문구 북가좌동 291-2번지                                      </td><td>굽네치킨                      </td></tr>\n",
              "\t<tr><td>서울특별시 서대문구 남가좌동 324-45번지                                     </td><td>빠빠빠치킨                    </td></tr>\n",
              "\t<tr><td>서울특별시 서대문구 창천동 52-51번지 (지상2층)                              </td><td>맥주바다                      </td></tr>\n",
              "\t<tr><td>서울특별시 서대문구 북가좌동 344-31번지 밀양빌딩 1층 일부                   </td><td>빨강떡볶이 북가좌직영점       </td></tr>\n",
              "\t<tr><td>서울특별시 서대문구 창천동 53-91번지                                        </td><td>거품이야기                    </td></tr>\n",
              "\t<tr><td>서울특별시 서대문구 홍제동 266-20번지 외1필지 지상1층                       </td><td>퓨전주점 사발                 </td></tr>\n",
              "\t<tr><td>서울특별시 서대문구 창천동 2-21번지 2층                                     </td><td>오프더레코드                  </td></tr>\n",
              "\t<tr><td>서울특별시 서대문구 냉천동 159-2번지 2층                                    </td><td>BU BU(부부)                   </td></tr>\n",
              "\t<tr><td>서울특별시 서대문구 연희동 69-22번지                                        </td><td>시루향기(연희점)              </td></tr>\n",
              "\t<tr><td>서울특별시 서대문구 창천동 57-53번지                                        </td><td>중국홍 샤브 샤브              </td></tr>\n",
              "\t<tr><td>서울특별시 서대문구 신촌동 134번지 연세대학교 SK국제학사(2학사) 지하2층 일부</td><td>마피아 피자앤치킨             </td></tr>\n",
              "\t<tr><td>서울특별시 서대문구 창천동 52-83번지                                        </td><td>예인푸드시스템(신촌양푼이국수)</td></tr>\n",
              "\t<tr><td>서울특별시 서대문구 대현동 37-32번지 신촌영타운 지웰 115호                  </td><td>비비큐 이대점                 </td></tr>\n",
              "\t<tr><td>서울특별시 서대문구 창천동 52-76번지 (지하1층)                              </td><td>바나나                        </td></tr>\n",
              "\t<tr><td>서울특별시 서대문구 충정로2가 5-15번지                                      </td><td>오븐에 빠진 닭                </td></tr>\n",
              "\t<tr><td>⋮</td><td>⋮</td></tr>\n",
              "\t<tr><td>서울특별시 서대문구 북아현동 1-521번지 (지하1층) </td><td>올리브              </td></tr>\n",
              "\t<tr><td>서울특별시 서대문구 북아현동 220-36번지          </td><td>원                  </td></tr>\n",
              "\t<tr><td>서울특별시 서대문구 홍은동 48-165번지 (지상1층)  </td><td>버닝호프            </td></tr>\n",
              "\t<tr><td>서울특별시 서대문구 창천동 57-42번지             </td><td>뜨레모아            </td></tr>\n",
              "\t<tr><td>서울특별시 서대문구 북가좌동 290-13번지          </td><td>만냥막걸리          </td></tr>\n",
              "\t<tr><td>서울특별시 서대문구 대현동 90-53번지             </td><td>민주떡볶이          </td></tr>\n",
              "\t<tr><td>서울특별시 서대문구 북아현동 220-36번지          </td><td>애마                </td></tr>\n",
              "\t<tr><td>서울특별시 서대문구 남가좌동 157-1번지           </td><td>안동장              </td></tr>\n",
              "\t<tr><td>서울특별시 서대문구 남가좌동 295-5번지           </td><td>제일식당            </td></tr>\n",
              "\t<tr><td>서울특별시 서대문구 북가좌동 291-2번지           </td><td>에이스꼬치구이전문점</td></tr>\n",
              "\t<tr><td>서울특별시 서대문구 홍제동 174-46번지            </td><td>선비촌              </td></tr>\n",
              "\t<tr><td>서울특별시 서대문구 창천동 20-99번지             </td><td>달콤한코끼리        </td></tr>\n",
              "\t<tr><td>서울특별시 서대문구 북아현동 220-36번지          </td><td>뭉크                </td></tr>\n",
              "\t<tr><td>서울특별시 서대문구 북아현동 217-4번지 (지상1층) </td><td>마이통닭            </td></tr>\n",
              "\t<tr><td>서울특별시 서대문구 홍제동 173-2번지 ,4 (지상2층)</td><td>엠티호프            </td></tr>\n",
              "\t<tr><td>서울특별시 서대문구 대현동 137-2번지             </td><td>심프손              </td></tr>\n",
              "\t<tr><td>서울특별시 서대문구 창천동 53-94번지             </td><td>달과6팬스           </td></tr>\n",
              "\t<tr><td>서울특별시 서대문구 남가좌동 351-14번지          </td><td>만남호프            </td></tr>\n",
              "\t<tr><td>서울특별시 서대문구 연희동 133-6번지             </td><td>꾸띠몽              </td></tr>\n",
              "\t<tr><td>서울특별시 서대문구 창천동 5-94번지 (지상1층)    </td><td>세이                </td></tr>\n",
              "\t<tr><td>서울특별시 서대문구 창천동 29-55번지             </td><td>난                  </td></tr>\n",
              "\t<tr><td>서울특별시 서대문구 홍은동 450-6번지             </td><td>오비광장            </td></tr>\n",
              "\t<tr><td>서울특별시 서대문구 홍은동 450-6번지             </td><td>미승호프            </td></tr>\n",
              "\t<tr><td>서울특별시 서대문구 충정로3가 190-36번지         </td><td>봉명성              </td></tr>\n",
              "\t<tr><td>서울특별시 서대문구 창천동 52-150번지            </td><td>챔스(Champs)        </td></tr>\n",
              "\t<tr><td>서울특별시 서대문구 남가좌동 290-9번지           </td><td>들장미              </td></tr>\n",
              "\t<tr><td>서울특별시 서대문구 남가좌동 290-9번지           </td><td>광주집              </td></tr>\n",
              "\t<tr><td>서울특별시 서대문구 남가좌동 215-45번지 (지상1층)</td><td>쇼킹                </td></tr>\n",
              "\t<tr><td>서울특별시 서대문구 홍은동 401-12번지            </td><td>민들레분식          </td></tr>\n",
              "\t<tr><td>서울특별시 서대문구 남가좌동 157-1번지           </td><td>청해수산            </td></tr>\n",
              "</tbody>\n",
              "</table>\n"
            ]
          },
          "metadata": {
            "tags": []
          }
        }
      ]
    },
    {
      "cell_type": "code",
      "metadata": {
        "colab": {
          "base_uri": "https://localhost:8080/",
          "height": 34
        },
        "id": "close-raising",
        "outputId": "edeff88e-22e1-454f-80ab-a45fcb0b3eba"
      },
      "source": [
        "#동별로 추출하여 상세 주소는 제거 - substr() 를 사용하여 동까지만 남기고 나머지 삭제\n",
        "\n",
        "addr <- substr(ck$`소재지전체주소`, 11,16)    # 서울특별시 서대문구 -> 11칸, ~~동. substr(데이터셋$열이름,시작점,끝점) -> 문자를 시작점에서 끝점까지 자르기\n",
        "head(addr)"
      ],
      "id": "close-raising",
      "execution_count": null,
      "outputs": [
        {
          "output_type": "display_data",
          "data": {
            "text/plain": [
              "[1] \" 창천동 5\"  \" 창천동 5\"  \" 창천동 5\"  \" 남가좌동 \" \" 연희동 1\" \n",
              "[6] \" 창천동 6\" "
            ],
            "text/latex": "\\begin{enumerate*}\n\\item ' 창천동 5'\n\\item ' 창천동 5'\n\\item ' 창천동 5'\n\\item ' 남가좌동 '\n\\item ' 연희동 1'\n\\item ' 창천동 6'\n\\end{enumerate*}\n",
            "text/markdown": "1. ' 창천동 5'\n2. ' 창천동 5'\n3. ' 창천동 5'\n4. ' 남가좌동 '\n5. ' 연희동 1'\n6. ' 창천동 6'\n\n\n",
            "text/html": [
              "<style>\n",
              ".list-inline {list-style: none; margin:0; padding: 0}\n",
              ".list-inline>li {display: inline-block}\n",
              ".list-inline>li:not(:last-child)::after {content: \"\\00b7\"; padding: 0 .5ex}\n",
              "</style>\n",
              "<ol class=list-inline><li>' 창천동 5'</li><li>' 창천동 5'</li><li>' 창천동 5'</li><li>' 남가좌동 '</li><li>' 연희동 1'</li><li>' 창천동 6'</li></ol>\n"
            ]
          },
          "metadata": {
            "tags": []
          }
        }
      ]
    },
    {
      "cell_type": "code",
      "metadata": {
        "id": "J5utsn5tb6jE"
      },
      "source": [
        "# 숫자 모두 제거\n",
        "# gsub() 함수를 사용하여 제거\n",
        "\n",
        "addr_num <- gsub('[0-9]','',addr) # gsub(바꿔야하는문자, 바꿀문자, 데이터)"
      ],
      "id": "J5utsn5tb6jE",
      "execution_count": null,
      "outputs": []
    },
    {
      "cell_type": "code",
      "metadata": {
        "colab": {
          "base_uri": "https://localhost:8080/",
          "height": 34
        },
        "id": "L6_uw8DRdAkC",
        "outputId": "ded4bd14-df31-422f-c18d-83f96bb1e9b5"
      },
      "source": [
        "# 여백 모두 제거\n",
        "\n",
        "addr_trim <- gsub(' ','',addr_num)\n",
        "head(addr_trim)"
      ],
      "id": "L6_uw8DRdAkC",
      "execution_count": null,
      "outputs": [
        {
          "output_type": "display_data",
          "data": {
            "text/plain": [
              "[1] \"창천동\"   \"창천동\"   \"창천동\"   \"남가좌동\" \"연희동\"   \"창천동\"  "
            ],
            "text/latex": "\\begin{enumerate*}\n\\item '창천동'\n\\item '창천동'\n\\item '창천동'\n\\item '남가좌동'\n\\item '연희동'\n\\item '창천동'\n\\end{enumerate*}\n",
            "text/markdown": "1. '창천동'\n2. '창천동'\n3. '창천동'\n4. '남가좌동'\n5. '연희동'\n6. '창천동'\n\n\n",
            "text/html": [
              "<style>\n",
              ".list-inline {list-style: none; margin:0; padding: 0}\n",
              ".list-inline>li {display: inline-block}\n",
              ".list-inline>li:not(:last-child)::after {content: \"\\00b7\"; padding: 0 .5ex}\n",
              "</style>\n",
              "<ol class=list-inline><li>'창천동'</li><li>'창천동'</li><li>'창천동'</li><li>'남가좌동'</li><li>'연희동'</li><li>'창천동'</li></ol>\n"
            ]
          },
          "metadata": {
            "tags": []
          }
        }
      ]
    },
    {
      "cell_type": "code",
      "metadata": {
        "colab": {
          "base_uri": "https://localhost:8080/",
          "height": 860
        },
        "id": "AtD2r54KdfTu",
        "outputId": "ebf69037-b533-4031-cbb5-fadb8e0e35fc"
      },
      "source": [
        "# 동별 업소 개수 확인\n",
        "# 변수의 개수 확인을 위해서 table() 함수 사용\n",
        "library(dplyr)\n",
        "addr_count <- addr_trim %>% table() %>% data.frame()\n",
        "addr_count"
      ],
      "id": "AtD2r54KdfTu",
      "execution_count": null,
      "outputs": [
        {
          "output_type": "stream",
          "text": [
            "\n",
            "Attaching package: ‘dplyr’\n",
            "\n",
            "\n",
            "The following objects are masked from ‘package:stats’:\n",
            "\n",
            "    filter, lag\n",
            "\n",
            "\n",
            "The following objects are masked from ‘package:base’:\n",
            "\n",
            "    intersect, setdiff, setequal, union\n",
            "\n",
            "\n"
          ],
          "name": "stderr"
        },
        {
          "output_type": "display_data",
          "data": {
            "text/plain": [
              "   .        Freq\n",
              "1  남가좌동 282 \n",
              "2  냉천동    24 \n",
              "3  대신동     3 \n",
              "4  대현동    69 \n",
              "5  미근동     6 \n",
              "6  북가좌동 155 \n",
              "7  북아현동  45 \n",
              "8  신촌동     2 \n",
              "9  연희동   104 \n",
              "10 영천동    15 \n",
              "11 옥천동     3 \n",
              "12 창천동   395 \n",
              "13 천연동     3 \n",
              "14 충정로가  48 \n",
              "15 합동       2 \n",
              "16 홍은동   150 \n",
              "17 홍제동   209 "
            ],
            "text/latex": "A data.frame: 17 × 2\n\\begin{tabular}{ll}\n . & Freq\\\\\n <fct> & <int>\\\\\n\\hline\n\t 남가좌동 & 282\\\\\n\t 냉천동   &  24\\\\\n\t 대신동   &   3\\\\\n\t 대현동   &  69\\\\\n\t 미근동   &   6\\\\\n\t 북가좌동 & 155\\\\\n\t 북아현동 &  45\\\\\n\t 신촌동   &   2\\\\\n\t 연희동   & 104\\\\\n\t 영천동   &  15\\\\\n\t 옥천동   &   3\\\\\n\t 창천동   & 395\\\\\n\t 천연동   &   3\\\\\n\t 충정로가 &  48\\\\\n\t 합동     &   2\\\\\n\t 홍은동   & 150\\\\\n\t 홍제동   & 209\\\\\n\\end{tabular}\n",
            "text/markdown": "\nA data.frame: 17 × 2\n\n| . &lt;fct&gt; | Freq &lt;int&gt; |\n|---|---|\n| 남가좌동 | 282 |\n| 냉천동   |  24 |\n| 대신동   |   3 |\n| 대현동   |  69 |\n| 미근동   |   6 |\n| 북가좌동 | 155 |\n| 북아현동 |  45 |\n| 신촌동   |   2 |\n| 연희동   | 104 |\n| 영천동   |  15 |\n| 옥천동   |   3 |\n| 창천동   | 395 |\n| 천연동   |   3 |\n| 충정로가 |  48 |\n| 합동     |   2 |\n| 홍은동   | 150 |\n| 홍제동   | 209 |\n\n",
            "text/html": [
              "<table class=\"dataframe\">\n",
              "<caption>A data.frame: 17 × 2</caption>\n",
              "<thead>\n",
              "\t<tr><th scope=col>.</th><th scope=col>Freq</th></tr>\n",
              "\t<tr><th scope=col>&lt;fct&gt;</th><th scope=col>&lt;int&gt;</th></tr>\n",
              "</thead>\n",
              "<tbody>\n",
              "\t<tr><td>남가좌동</td><td>282</td></tr>\n",
              "\t<tr><td>냉천동  </td><td> 24</td></tr>\n",
              "\t<tr><td>대신동  </td><td>  3</td></tr>\n",
              "\t<tr><td>대현동  </td><td> 69</td></tr>\n",
              "\t<tr><td>미근동  </td><td>  6</td></tr>\n",
              "\t<tr><td>북가좌동</td><td>155</td></tr>\n",
              "\t<tr><td>북아현동</td><td> 45</td></tr>\n",
              "\t<tr><td>신촌동  </td><td>  2</td></tr>\n",
              "\t<tr><td>연희동  </td><td>104</td></tr>\n",
              "\t<tr><td>영천동  </td><td> 15</td></tr>\n",
              "\t<tr><td>옥천동  </td><td>  3</td></tr>\n",
              "\t<tr><td>창천동  </td><td>395</td></tr>\n",
              "\t<tr><td>천연동  </td><td>  3</td></tr>\n",
              "\t<tr><td>충정로가</td><td> 48</td></tr>\n",
              "\t<tr><td>합동    </td><td>  2</td></tr>\n",
              "\t<tr><td>홍은동  </td><td>150</td></tr>\n",
              "\t<tr><td>홍제동  </td><td>209</td></tr>\n",
              "</tbody>\n",
              "</table>\n"
            ]
          },
          "metadata": {
            "tags": []
          }
        }
      ]
    },
    {
      "cell_type": "code",
      "metadata": {
        "colab": {
          "base_uri": "https://localhost:8080/"
        },
        "id": "lG8VIAW1eA0a",
        "outputId": "64497359-2b67-43b2-9994-35a307c52dac"
      },
      "source": [
        "install.packages('treemap')\n",
        "library(treemap)"
      ],
      "id": "lG8VIAW1eA0a",
      "execution_count": null,
      "outputs": [
        {
          "output_type": "stream",
          "text": [
            "Installing package into ‘/usr/local/lib/R/site-library’\n",
            "(as ‘lib’ is unspecified)\n",
            "\n",
            "also installing the dependencies ‘sass’, ‘jquerylib’, ‘httpuv’, ‘xtable’, ‘sourcetools’, ‘bslib’, ‘data.table’, ‘gridBase’, ‘igraph’, ‘shiny’\n",
            "\n",
            "\n"
          ],
          "name": "stderr"
        }
      ]
    },
    {
      "cell_type": "code",
      "metadata": {
        "colab": {
          "base_uri": "https://localhost:8080/",
          "height": 437
        },
        "id": "GCY0BxTNe3-q",
        "outputId": "57689fa4-2b97-4696-9d63-2a47dc073eb9"
      },
      "source": [
        "treemap(addr_count, index='.', vSize='Freq', title='서대문구 동 별 치킨집 분포')"
      ],
      "id": "GCY0BxTNe3-q",
      "execution_count": null,
      "outputs": [
        {
          "output_type": "display_data",
          "data": {
            "image/png": "[encoded data removed]",
            "text/plain": [
              "plot without title"
            ]
          },
          "metadata": {
            "tags": [],
            "image/png": {
              "width": 420,
              "height": 420
            }
          }
        }
      ]
    },
    {
      "cell_type": "code",
      "metadata": {
        "id": "QeLDEuE8hB6t"
      },
      "source": [
        ""
      ],
      "id": "QeLDEuE8hB6t",
      "execution_count": null,
      "outputs": []
    }
  ]
}